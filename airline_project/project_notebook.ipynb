{
 "cells": [
  {
   "cell_type": "markdown",
   "metadata": {},
   "source": [
    "# Causal Inference Method (Difference-in-Differences): Measuring the Effect of a new Customer-Satisfaction Program at an Airline Company"
   ]
  },
  {
   "cell_type": "markdown",
   "metadata": {},
   "source": [
    "## Importing Libraries"
   ]
  },
  {
   "cell_type": "code",
   "execution_count": 1,
   "metadata": {},
   "outputs": [],
   "source": [
    "import os\n",
    "import pandas as pd\n",
    "import numpy as np\n",
    "import matplotlib.pyplot as plt\n",
    "import seaborn as sns\n",
    "import statsmodels.api as sm\n",
    "import statsmodels.formula.api as smf\n",
    "from statsmodels.formula.api import ols"
   ]
  },
  {
   "cell_type": "code",
   "execution_count": null,
   "metadata": {},
   "outputs": [],
   "source": [
    "# Initial Setup\n",
    "print(\"Current Working Directory:\", os.getcwd())"
   ]
  },
  {
   "cell_type": "markdown",
   "metadata": {},
   "source": [
    "## Exploratory Data Analysis\n",
    "\n",
    "Before we dive into the questions, let's do the following **basic** procedures:\n",
    "1) Data Overview\n",
    "2) Clean the data\n",
    "    * Handle Missing Values\n",
    "    * Remove Duplicates\n",
    "    * Other possible checks: data types (I quickly checked, and it is all okay, so I will jump this part)"
   ]
  },
  {
   "cell_type": "code",
   "execution_count": null,
   "metadata": {},
   "outputs": [
    {
     "name": "stdout",
     "output_type": "stream",
     "text": [
      "File loaded successfully.\n",
      "   id   nps_post   nps_pre airports  improved_counter_service  pair_id\n",
      "0   0   6.041131  4.504505     Alta                         1        1\n",
      "1   1  33.804627  6.936937     Alta                         1        2\n",
      "2   2  58.483290  8.738739     Alta                         1        3\n",
      "3   3   0.000000  0.000000     Alta                         1        4\n",
      "4   4  42.802057  5.855856     Alta                         1        5\n",
      "\n",
      "Data types and missing values:\n",
      "<class 'pandas.core.frame.DataFrame'>\n",
      "RangeIndex: 192 entries, 0 to 191\n",
      "Data columns (total 6 columns):\n",
      " #   Column                    Non-Null Count  Dtype  \n",
      "---  ------                    --------------  -----  \n",
      " 0   id                        192 non-null    int64  \n",
      " 1   nps_post                  192 non-null    float64\n",
      " 2   nps_pre                   192 non-null    float64\n",
      " 3   airports                  192 non-null    object \n",
      " 4   improved_counter_service  192 non-null    int64  \n",
      " 5   pair_id                   192 non-null    int64  \n",
      "dtypes: float64(2), int64(3), object(1)\n",
      "memory usage: 9.1+ KB\n",
      "None\n"
     ]
    }
   ],
   "source": [
    "# 1. Data Overview\n",
    "\n",
    "# Load the CSV file using the correct path\n",
    "# Rename the first column\n",
    "df = pd.read_csv(r\"C:\\Users\\caiov\\OneDrive - UCLA IT Services\\Documentos\\DataScience\\Repositories\\airline_project\\data\\nps_experiment_v2.csv\")\n",
    "df.rename(columns={df.columns[0]: 'id'}, inplace=True)\n",
    "\n",
    "print(\"File loaded successfully.\")\n",
    "print(df.head())\n",
    "\n",
    "print(\"\\nData types and missing values:\")\n",
    "print(df.info())"
   ]
  },
  {
   "cell_type": "code",
   "execution_count": 4,
   "metadata": {},
   "outputs": [
    {
     "name": "stdout",
     "output_type": "stream",
     "text": [
      "\n",
      "Missing values in each column:\n",
      "id                          0\n",
      "nps_post                    0\n",
      "nps_pre                     0\n",
      "airports                    0\n",
      "improved_counter_service    0\n",
      "pair_id                     0\n",
      "dtype: int64\n",
      "--> There are no missing data.\n",
      "\n",
      "Number of duplicate rows:  0\n",
      "--> There are no duplicates.\n"
     ]
    }
   ],
   "source": [
    "# 2. Data Cleaning\n",
    "\n",
    "# Handle Missing Values\n",
    "print(\"\\nMissing values in each column:\")\n",
    "print(df.isnull().sum())\n",
    "print(\"--> There are no missing data.\")\n",
    "\n",
    "# Remove Duplicates\n",
    "print(\"\\nNumber of duplicate rows: \", df.duplicated().sum())\n",
    "print(\"--> There are no duplicates.\")"
   ]
  },
  {
   "cell_type": "markdown",
   "metadata": {},
   "source": [
    "## Questions"
   ]
  },
  {
   "cell_type": "markdown",
   "metadata": {},
   "source": [
    "### Question 1\n",
    "**Based on the description generated in the previous point, identify which elements would be the target vector, the treatment, and possible covariates. Additionally, indicate what hypotheses we could generate regarding this intervention.**\n",
    "\n",
    "* Before answring, it is important to state that the setup of this project appears suitable for a Differences-in-Differences (DiD) approach, because:\n",
    "    * We have *pre* and *post* intervention data: We have `nps_pre` (pre-intervention NPS) and `nps_post` (post-intervention NPS) for each passenger.\n",
    "    * *Treatment* and *Control* Groups: The variable `improved_counter_service` indicates whether a passenger received the new service (treatment group) or not (control group).\n",
    "    * *Group Comparison*: You can compare the changes in NPS scores over time between the treatment and control groups.\n",
    "\n",
    "**Now, back to the question:**\n",
    "\n",
    "Target Variable, Treatment, and Covariates\n",
    "\n",
    "* Target Variable:\n",
    "    * The Target Variable is the measured characteristic the treatment is designed to effect.\n",
    "    * `nps_post`: This is the Net Promoter Score recorded after the intervention. Since the objective of the study is to measure how the CounterXP protocol affects customer satisfaction (as reflected in the NPS), nps_post is the outcome variable that you are analyzing to determine the effect of the intervention.\n",
    "* Treatment:\n",
    "    * The \n",
    "    * `improved_counter_service`: This binary variable indicates whether the passenger received the new CounterXP service (1 for yes, 0 for no). This is the treatment whose effect you are measuring.\n",
    "* Covariates:\n",
    "    * `nps_pre`: The Net Promoter Score before the intervention. This serves as a baseline measure and helps control for individual differences in pre-existing satisfaction.\n",
    "    * `airports`: The type of airport, which could impact NPS due to varying levels of operational demand. This helps control for contextual differences between airports.\n",
    "    * `pair_id`: This identifier indicates matched pairs of passengers, which can help control for other covariates by ensuring that comparisons are made between similar individuals.\n",
    "\n",
    "Hyphoteses\n",
    "\n",
    "Let's keep it simple.\n",
    "\n",
    "* Hypothesis 1 (Effect of CounterXP):\n",
    "    * Null Hypothesis (H0): There is no significant difference in `nps_post` between passengers who received the CounterXP service and those who did not.\n",
    "    * Alternative Hypothesis (H1): There is a significant difference in `nps_post` between passengers who received the CounterXP service and those who did not, indicating that the CounterXP protocol has an effect on customer satisfaction.\n",
    "* Hypothesis 2 (Impact of Covariates):\n",
    "    * Null Hypothesis (H0): The change in NPS (from pre to post) is consistent across different levels of covariates (such as `airport` type and `nps_pre`).\n",
    "    * Alternative Hypothesis (H1): The change in NPS is influenced by covariates like `airport` type and initial NPS (`nps_pre`), indicating that these factors impact the effectiveness of the CounterXP intervention."
   ]
  },
  {
   "cell_type": "markdown",
   "metadata": {},
   "source": [
    "### Question 2\n",
    "**Perform a descriptive analysis of the behavior of the target vector, considering its pre- and post-intervention measurements, as well as its behavior conditional on intervention status.**\n",
    "\n",
    "* Unconditional Analysis: Gives a general sense of the NPS scores before and after the intervention across all passengers.\n",
    "* Conditional Analysis: Provides insights into how the intervention impacted the NPS scores compared to the control group, helping to understand the effectiveness of CounterXP."
   ]
  },
  {
   "cell_type": "code",
   "execution_count": 5,
   "metadata": {},
   "outputs": [
    {
     "name": "stdout",
     "output_type": "stream",
     "text": [
      "\n",
      "Summary statistics for numerical columns:\n",
      "       nps_pre  nps_post\n",
      "count   192.00    192.00\n",
      "mean     67.54     68.06\n",
      "std      26.34     22.83\n",
      "min       0.00      0.00\n",
      "25%      56.73     54.95\n",
      "50%      76.71     74.68\n",
      "75%      86.76     85.86\n",
      "max     100.00    100.00\n"
     ]
    },
    {
     "data": {
      "image/png": "[encoded data removed]",
      "text/plain": [
       "<Figure size 500x300 with 2 Axes>"
      ]
     },
     "metadata": {},
     "output_type": "display_data"
    },
    {
     "data": {
      "image/png": "[encoded data removed]",
      "text/plain": [
       "<Figure size 500x300 with 1 Axes>"
      ]
     },
     "metadata": {},
     "output_type": "display_data"
    }
   ],
   "source": [
    "# Unconditional Analysis of the Target Variable (NPS)\n",
    "\n",
    "# Variables of interest\n",
    "variables_of_interest = ['nps_pre', 'nps_post']\n",
    "\n",
    "# Summary Statistics\n",
    "print(\"\\nSummary statistics for numerical columns:\")\n",
    "print(df[variables_of_interest].describe().round(2))\n",
    "\n",
    "# Distribution Analysis\n",
    "# Plot histograms for the selected variables\n",
    "plt.figure(figsize=(5, 3))  # Adjust the figure size as needed\n",
    "\n",
    "for i, col in enumerate(variables_of_interest, 1):\n",
    "    plt.subplot(1, 2, i)\n",
    "    plt.hist(df[col], bins=20, color='blue', alpha=0.7)\n",
    "    plt.title(f'Histogram of {col}')\n",
    "    plt.xlabel(col)\n",
    "    plt.ylabel('Frequency')\n",
    "\n",
    "plt.tight_layout()\n",
    "plt.show()\n",
    "\n",
    "# Plot Box Plots\n",
    "# Extract the data for the box plots\n",
    "data_to_plot = [df[col].dropna() for col in variables_of_interest]\n",
    "\n",
    "# Plot box plots for the selected variables in the same chart\n",
    "plt.figure(figsize=(5, 3))  # Adjust the figure size as needed\n",
    "\n",
    "plt.boxplot(data_to_plot, patch_artist=True, tick_labels=variables_of_interest)\n",
    "plt.title('Box Plots of NPS Pre and Post')\n",
    "plt.ylabel('NPS Scores')\n",
    "\n",
    "plt.show()"
   ]
  },
  {
   "cell_type": "markdown",
   "metadata": {},
   "source": [
    "**Interpretation of the Unconditional `nps_pre` vs `nps_post`**\n",
    "* Histograms\n",
    "    * Shape and Spread\n",
    "        * Both `nps_pre` and `nps_post` distributions are somewhat similar, with a noticeable concentration of scores around the 55-87 range.\n",
    "        * Both histograms show a peak around the 75-85 range, indicating that a significant number of observations have NPS scores in this range.\n",
    "    * Skewness\n",
    "        * Both distributions exhibit a slight left skew (longer tail on the left side), with some observations having very low NPS scores, even at 0.\n",
    "        * The presence of scores at 0 suggests that there are customers with very negative experiences both before and after the intervention.\n",
    "    * Final Thoughts\n",
    "        * The `nps_post` histogram shows a slight increase in the scores around the 70-85 range compared to the `nps_pre` distribution.\n",
    "        * This suggests that the intervention may have had a positive impact, as seen by a shift in the distribution towards higher scores after the intervention. However, the change is not drastic, indicating that the intervention might have had a moderate effect on improving customer satisfaction.\n",
    "        * **One notable observation** is the **disappearance of the peak in negative evaluations**, as seen in the histogram. While the mean and median haven't changed drastically, and the overall distribution shape remains similar, the reduction in negative feedback could imply a positive impact of the intervention.\n",
    "            * This suggests that the intervention might have successfully mitigated some of the lower-end dissatisfaction among participants, which is a critical insight despite the overall statistical measures showing minimal change.\n",
    "* Boxplots\n",
    "    * Central tendency (Mean and Median)\n",
    "        * The means of `nps_pre` and `nps_post` are very close (67.54 and 68.06, respectively), indicating a small overall increase in average NPS after the intervention.\n",
    "        * The median values also show a similar pattern, with a slight decrease from `nps_pre` (76.71) to `nps_post` (74.68), suggesting that the distribution's central point has shifted slightly downward after the intervention.\n",
    "    * Spread (Standard Deviation and Interquartile Range)\n",
    "        * The standard deviation of `nps_pre` (26.34) is slightly higher than that of `nps_post` (22.83), suggesting that there was more variability in the NPS scores before the intervention.\n",
    "        * The IQRs are quite similar for both `nps_pre` (86.76 - 56.73 = 30.03) and `nps_post` (85.86 - 54.95 = 30.91), indicating that the spread of the middle 50% of the data has not changed significantly after the intervention.\n",
    "    * Extremes\n",
    "        * Both `nps_pre` and `nps_post` have the same minimum and maximum values, indicating that the range of NPS scores (from 0 to 100) has remained unchanged before and after the intervention.\n",
    "    * Final Thoughts\n",
    "        * These insights suggest that while the intervention might have had a minor impact on the overall NPS, the general distribution of scores remained consistent. This could indicate that the intervention's effect was subtle or that other factors also influenced NPS scores during the period."
   ]
  },
  {
   "cell_type": "code",
   "execution_count": 6,
   "metadata": {},
   "outputs": [
    {
     "name": "stdout",
     "output_type": "stream",
     "text": [
      "\n",
      "Descriptive statistics by improved_counter_service (intervention status):\n",
      "                         nps_pre                                              \\\n",
      "                           count       mean        std        min        25%   \n",
      "improved_counter_service                                                       \n",
      "0                           96.0  77.045796  16.579405  34.414414  65.855856   \n",
      "1                           96.0  58.043356  30.620121   0.000000  47.882883   \n",
      "\n",
      "                                                           nps_post  \\\n",
      "                                50%        75%         max    count   \n",
      "improved_counter_service                                              \n",
      "0                         81.486486  91.373874   98.378378     96.0   \n",
      "1                         65.450450  82.882883  100.000000     96.0   \n",
      "\n",
      "                                                                     \\\n",
      "                               mean        std       min        25%   \n",
      "improved_counter_service                                              \n",
      "0                         64.422665  23.654422  3.598972  48.457584   \n",
      "1                         71.694248  21.477839  0.000000  62.050129   \n",
      "\n",
      "                                                            \n",
      "                                50%        75%         max  \n",
      "improved_counter_service                                    \n",
      "0                         70.758355  84.865039   94.858612  \n",
      "1                         77.956298  87.467866  100.000000  \n"
     ]
    }
   ],
   "source": [
    "# Conditional Analysis of the Target Variable (NPS), conditioning on the intervencion status\n",
    "print(\"\\nDescriptive statistics by improved_counter_service (intervention status):\")\n",
    "print(df.groupby('improved_counter_service')[variables_of_interest].describe())"
   ]
  },
  {
   "cell_type": "code",
   "execution_count": 7,
   "metadata": {},
   "outputs": [
    {
     "data": {
      "image/png": "[encoded data removed]",
      "text/plain": [
       "<Figure size 800x300 with 2 Axes>"
      ]
     },
     "metadata": {},
     "output_type": "display_data"
    }
   ],
   "source": [
    "# Histograms for nps_post and nps_pre by intervention status\n",
    "plt.figure(figsize=(8, 3))\n",
    "\n",
    "# Histogram for nps_pre by intervention status\n",
    "plt.subplot(1, 2, 1)\n",
    "sns.histplot(data=df, x='nps_pre', hue='improved_counter_service', multiple='stack', bins=30)\n",
    "plt.title('Histogram of NPS Pre by Intervention Status')\n",
    "plt.xlabel('NPS Pre')\n",
    "plt.ylabel('Frequency')\n",
    "\n",
    "# Histogram for nps_post by intervention status\n",
    "plt.subplot(1, 2, 2)\n",
    "sns.histplot(data=df, x='nps_post', hue='improved_counter_service', multiple='stack', bins=30)\n",
    "plt.title('Histogram of NPS Post by Intervention Status')\n",
    "plt.xlabel('NPS Post')\n",
    "plt.ylabel('Frequency')\n",
    "\n",
    "plt.tight_layout()\n",
    "plt.show()"
   ]
  },
  {
   "cell_type": "code",
   "execution_count": 8,
   "metadata": {},
   "outputs": [
    {
     "data": {
      "image/png": "[encoded data removed]",
      "text/plain": [
       "<Figure size 800x300 with 2 Axes>"
      ]
     },
     "metadata": {},
     "output_type": "display_data"
    }
   ],
   "source": [
    "# Boxplots for nps_post and nps_pre by intervention status\n",
    "plt.figure(figsize=(8, 3))\n",
    "\n",
    "# Boxplot for nps_pre\n",
    "plt.subplot(1, 2, 1)\n",
    "sns.boxplot(x='improved_counter_service', y='nps_pre', data=df)\n",
    "plt.title('Boxplot of NPS Pre by Intervention Status')\n",
    "plt.xlabel('Improved Counter Service')\n",
    "plt.ylabel('NPS Pre')\n",
    "\n",
    "# Boxplot for nps_post\n",
    "plt.subplot(1, 2, 2)\n",
    "sns.boxplot(x='improved_counter_service', y='nps_post', data=df)\n",
    "plt.title('Boxplot of NPS Post by Intervention Status')\n",
    "plt.xlabel('Improved Counter Service')\n",
    "plt.ylabel('NPS Post')\n",
    "\n",
    "plt.tight_layout()\n",
    "plt.show()"
   ]
  },
  {
   "cell_type": "markdown",
   "metadata": {},
   "source": [
    "**Interpretation of `nps_pre` Conditional on `improved_counter_service`.**\n",
    "\n",
    "* Before the Intervention (improved_counter_service = 0)\n",
    "    * $NPS_{pre, intervention = 0} = 77$\n",
    "    * This represents the Net Promoter Score (NPS) before the intervention was implemented. \n",
    "    * It gives us a baseline measure of customer satisfaction before any changes were made.\n",
    "\n",
    "* After the Intervention (improved_counter_service = 1):\n",
    "    * $NPS_{pre, intervention = 1} = 58$\n",
    "    * This shows the NPS before the intervention for those who eventually experienced the intervention.\n",
    "    * This score is essentially the same as `nps_pre` for the control group but collected from the subset of data that will later receive the intervention.\n",
    "\n",
    "**Interpretation of `nps_post` Conditional on `improved_counter_service` Status**\n",
    "\n",
    "* Before the Intervention (improved_counter_service = 0)\n",
    "    * $NPS_{post, intervention = 0} = 64.4$\n",
    "    * This measures the NPS after the intervention was implemented, but for those who did not experience the intervention.\n",
    "    * This score helps us understand the effect of the passage of time or other external factors on customer satisfaction for the non-intervention group.\n",
    "\n",
    "* After the Intervention (improved_counter_service = 1):\n",
    "    * $NPS_{post, intervention = 1} = 71.7$\n",
    "    * This measures the NPS after the intervention for those who received it. \n",
    "    * This score directly reflects the impact of the intervention on customer satisfaction.\n",
    "\n",
    "**Final Thoughts**\n",
    "* Change in NPS for those who did not experienced the new protocol:\n",
    "    * The decrease from 77 to 64.4 indicates that satisfaction levels have dropped, which could be attributed to external factors or changes not related to the intervention.\n",
    "* Change in NPS for those who experienced the new protocol:\n",
    "    * The increase from 58 to 71.7 shows a positive effect of the intervention. The improvement in satisfaction after receiving the intervention suggests that the intervention was successful in enhancing customer satisfaction for this group.\n",
    "* The intervention appears to have been effective:\n",
    "    * It improved the NPS for those who received it (from 58 to 71.7).\n",
    "    * Despite the lower NPS_pre among those who received the intervention, the NPS_post is now higher than the NPS_post of those who did not receive it. \n",
    "    * In essence, the intervention had a beneficial effect on customer satisfaction, particularly for those who initially had lower satisfaction scores."
   ]
  },
  {
   "cell_type": "markdown",
   "metadata": {},
   "source": [
    "### Question 3\n",
    "**Generate a sample estimator of the treatment effect on the target vector. Report 95% confidence intervals using either resampling techniques with replacement, parametric methods, and/or Bayesian methods; and explain the assumptions behind its construction. What is the expected treatment effect on the target vector? What impacts might this have for the company?**\n",
    "\n",
    "For this question, let's use a method called Difference-in-Differences."
   ]
  },
  {
   "cell_type": "markdown",
   "metadata": {},
   "source": [
    "### Bringing Causal Inference (from Econometrics) to the table"
   ]
  },
  {
   "cell_type": "markdown",
   "metadata": {},
   "source": [
    "#### The Idea\n",
    "\n",
    "Suppose we wish to estimate the impact of some treatment (CounterXP) on a given outcome (NPS) over time.\n",
    "* Our question of interest would be:\n",
    "    * **What is the impact of CounterXP on NPS?**\n",
    "\n",
    "Suppose that we observe two groups before and after implementing CounterXP at the airports, with the treatment group being affected by the new protocol, and the control group being unaffected by the protocol.\n",
    "\n",
    "* Can we do a simple analysis? For example:\n",
    "    * **Can we simply calculate the difference in averages between the treatment and the control groups?**\n",
    "    * **Not really.** \n",
    "    * For example, we might encounter a **Self-Selection** bias scenario, i.e., maybe those who are in the treatment group (the respondents in the airports with the new protocol) were exactyl those customers who are indifferent or apathetic to surveys, so they were are less likely to respond in the first place, leading the difference in NPS for treatment and control groups to not capture the realistic effect of the new protocol.\n",
    "        * In other words, in this case, the difference in the averages between the treatment and the control groups are not due to the new protocol, but rather to being unlucky (because the customers who answered were the ones who are always indifferent and who do not care, bringing down the average.)\n",
    "\n",
    "* So what do we do?\n",
    "    * **We want to employ a Differences-in-Differences method, where we will identify the treatment effect as the difference in changes over time (i.e.: pre-treatment and post-treatment) between treatment and control groups.**\n",
    "    * In other words, we will think on the following:\n",
    "        * Pre-Treatment Averages: How were both groups before the treatment, i.e., what were the pre-treatment averages before the treatment?\n",
    "        * Post-Treatment Averages: How are both groups after the treatment, i.e., what are the post-treatment averages after the treatment?"
   ]
  },
  {
   "cell_type": "markdown",
   "metadata": {},
   "source": [
    "#### Differences in Differences \n",
    "\n",
    "##### Basic Concepts\n",
    "\n",
    "* What **type of data** are we facing?\n",
    "    * We are facing cross-sectional data.\n",
    "        * A cross section is the same as “drawing a sample of K individuals from a population of N individuals”.\n",
    "* Bringing time into data\n",
    "    * The core point here is to understand that we brought **time** into the problem.\n",
    "    * Therefore, we have both cross-sectional and time series dimensions.\n",
    "\n",
    "* When **time** is present into the analysis, there are usually two types of data:\n",
    "    * Repeated (or Independently Pooled) Cross-sectional data\n",
    "        * To draw (or observe) a sample data on a particular point in time, and repeat the experiment.\n",
    "    * Panel (or Longitudinal) Data\n",
    "        * We follow and observe specific variables over time (e.g.: stock prices, money supply, consumer price, index, gross domestic product…).\n",
    "    * In our case, we are looking at a **Repeated Cross-sectional Data**.\n",
    "\n",
    "* What is the context of this problem?\n",
    "    * We have two cross-sectional datasets, collected before and after the occurrence of an event (the CounterXP protocol).\n",
    "\n",
    "* What are we trying to find within this context?\n",
    "    * We want to estimate the **Causal Effect** (or a **Treatment Effect**) of a Treatment compared to a Control.\n",
    "\n",
    "* How do we find this?\n",
    "    * The most important underlying factor is the idea of the **Counterfactual**, i.e.: \n",
    "        * *What is the outcome (**$NPS_{post}$**) of the treated group after the treatment (**$Intervention$**) was perfomed, had they not been treated?*\n",
    "        * That is: What is **$NPS_{post, treated}$ | Intervention did not occur**\n",
    "    * If we are able to calculate this **Counterfactual**, we will be able to answer a more causal question.\n",
    "\n",
    "To summarize, this is a good image to capture the whole concept:\n",
    "\n",
    "<div style=\"text-align: center;\">\n",
    "    <img src=\"img\\dif_in_dif_2.jpg\" alt=\"Difference in Differences\"  width=\"40%\">\n",
    "</div>\n",
    "\n",
    "What we want is to calculate the so-called **\"Treatment Effect\"** (see picture above).\n",
    "\n",
    "The idea of the **Counterfactual** is central here.\n",
    "* However, it is good to note that literature has a strong assumption (check the picture):\n",
    "    * **We assume that the trends for both the Treatment and Control groups would have remained parallel, had it not been for the treatment.** "
   ]
  },
  {
   "cell_type": "markdown",
   "metadata": {},
   "source": [
    "### Back to Question 3\n",
    "\n",
    "* Model Specification\n",
    "\\begin{equation}\n",
    "\\text{NPS}_{it} = \\beta_0 + \\beta_1 \\text{improved\\_counter\\_service}_i + \\beta_2 \\text{post}_t + \\beta_3 (\\text{improved\\_counter\\_service}_i \\times \\text{post}_t) + \\epsilon_{it}\n",
    "\\end{equation}\n",
    "\n",
    "where: i = 1, ..., 192 ; t = 0, 1\n",
    "\n",
    "* Where:\n",
    "    * NPS: Dependent variable (NPS score).\n",
    "    * improved_counter_service: Indicator variable for treatment group (1 if treated, 0 if control).\n",
    "    * post: Indicator variable for the post-treatment period (1 if post, 0 if pre).\n",
    "    * improved_counter_service × post: This is called an **Interaction Term** and it represents the **Treatment Effect**.\n",
    "    * **𝛽3: Coefficient of interest representing the (Causal) Treatment Effect.**\n",
    "    * ϵ: Error term.\n",
    "\n",
    "Now, let's reshape the model to have the `Post` variable (which is the standard way for the Differences-in-Differences approach). "
   ]
  },
  {
   "cell_type": "code",
   "execution_count": null,
   "metadata": {},
   "outputs": [
    {
     "name": "stdout",
     "output_type": "stream",
     "text": [
      "      id        nps airports  improved_counter_service  pair_id  post\n",
      "0      0   6.041131     Alta                         1        1     1\n",
      "1      1  33.804627     Alta                         1        2     1\n",
      "2      2  58.483290     Alta                         1        3     1\n",
      "3      3   0.000000     Alta                         1        4     1\n",
      "4      4  42.802057     Alta                         1        5     1\n",
      "..   ...        ...      ...                       ...      ...   ...\n",
      "379  187  92.252252     Baja                         0       92     0\n",
      "380  188  94.144144     Baja                         0       93     0\n",
      "381  189  96.486486     Baja                         0       94     0\n",
      "382  190  95.855856     Baja                         0       95     0\n",
      "383  191  91.171171     Baja                         0       96     0\n",
      "\n",
      "[384 rows x 6 columns]\n"
     ]
    }
   ],
   "source": [
    "# Reshape the dataset\n",
    "df_post = df[['id', 'nps_post', 'airports', 'improved_counter_service', 'pair_id']].copy()\n",
    "df_post['post'] = 1\n",
    "df_post.rename(columns={'nps_post': 'nps'}, inplace=True)\n",
    "\n",
    "df_pre = df[['id', 'nps_pre', 'airports', 'improved_counter_service', 'pair_id']].copy()\n",
    "df_pre['post'] = 0\n",
    "df_pre.rename(columns={'nps_pre': 'nps'}, inplace=True)\n",
    "\n",
    "# Combine the datasets\n",
    "df_reshaped = pd.concat([df_post, df_pre], ignore_index=True)\n",
    "\n",
    "print(df_reshaped)\n",
    "\n",
    "df_reshaped.to_csv(r\"C:\\Users\\caiov\\OneDrive - UCLA IT Services\\Documentos\\DataScience\\Repositories\\ai-project\\data\\dif_in_dif.csv\", index=False)"
   ]
  },
  {
   "cell_type": "code",
   "execution_count": 10,
   "metadata": {},
   "outputs": [
    {
     "name": "stdout",
     "output_type": "stream",
     "text": [
      "                            OLS Regression Results                            \n",
      "==============================================================================\n",
      "Dep. Variable:                    nps   R-squared:                       0.086\n",
      "Model:                            OLS   Adj. R-squared:                  0.079\n",
      "Method:                 Least Squares   F-statistic:                     11.88\n",
      "Date:                Mon, 26 Aug 2024   Prob (F-statistic):           1.88e-07\n",
      "Time:                        23:44:14   Log-Likelihood:                -1757.3\n",
      "No. Observations:                 384   AIC:                             3523.\n",
      "Df Residuals:                     380   BIC:                             3538.\n",
      "Df Model:                           3                                         \n",
      "Covariance Type:            nonrobust                                         \n",
      "=================================================================================================\n",
      "                                    coef    std err          t      P>|t|      [0.025      0.975]\n",
      "-------------------------------------------------------------------------------------------------\n",
      "const                            77.0458      2.412     31.948      0.000      72.304      81.788\n",
      "improved_counter_service        -19.0024      3.411     -5.572      0.000     -25.708     -12.297\n",
      "post                            -12.6231      3.411     -3.701      0.000     -19.329      -5.917\n",
      "improved_counter_service:post    26.2740      4.823      5.447      0.000      16.790      35.758\n",
      "==============================================================================\n",
      "Omnibus:                       44.270   Durbin-Watson:                   0.617\n",
      "Prob(Omnibus):                  0.000   Jarque-Bera (JB):               57.356\n",
      "Skew:                          -0.944   Prob(JB):                     3.51e-13\n",
      "Kurtosis:                       3.136   Cond. No.                         6.85\n",
      "==============================================================================\n",
      "\n",
      "Notes:\n",
      "[1] Standard Errors assume that the covariance matrix of the errors is correctly specified.\n"
     ]
    }
   ],
   "source": [
    "# Create the interaction term\n",
    "df_reshaped['improved_counter_service:post'] = df_reshaped['improved_counter_service'] * df_reshaped['post']\n",
    "\n",
    "# Define the model\n",
    "model = sm.OLS(df_reshaped['nps'], sm.add_constant(df_reshaped[['improved_counter_service', 'post', 'improved_counter_service:post']]))\n",
    "results = model.fit()\n",
    "\n",
    "# Print the summary\n",
    "print(results.summary())\n"
   ]
  },
  {
   "cell_type": "markdown",
   "metadata": {},
   "source": [
    "From the output we have:\n",
    "\n",
    "\\begin{equation}\n",
    "\\text{NPS\\_post} = 77.05 - 19 \\times \\text{improved\\_counter\\_service} - 12.6 \\times \\text{post}_t + 26.27 \\times (\\text{improved\\_counter\\_service} \\times \\text{post}_t)\n",
    "\\end{equation}\n",
    "\n",
    "* Estimates\n",
    "    * β0 (Intercept): 77.05\n",
    "        * The estimated average NPS score for the control group before the treatment is 77.05. This is the baseline value for comparison.\n",
    "    * β1 (Coefficient of improved_counter_service): 7.2716\n",
    "        * The difference in the average NPS score between the treatment and control groups before the treatment is -19.00. This suggests that, on average, the treatment group had a lower NPS score of - 19 points compared to the control group before the treatment.\n",
    "    * β2 (Coefficient os post): -12.6 \n",
    "        * The change in the average NPS score for the control group after the treatment period is -12.62. This indicates a decrease of -12,6 points in the NPS score for the control group after the treatment period.\n",
    "    * β3 (**Difference-in-Differences estimate - The Treatment Effect**): 26.27\n",
    "        * This coefficient captures the additional effect of the treatment on the NPS for the treated group relative to the control group after the treatment. **The positive value suggests that the treatment (CounterXP) had a significant positive effect on the NPS in the treated group compared to the control group post-treatment**.\n",
    "        * **Confidence Intervals**:\n",
    "            * CI = [16.790, 35.758]\n",
    "            * With 95% confidence, the true treatment effect (impact of CounterXP on the NPS) lies within this range. Since the interval does not include zero, we can conclude that the effect is statistically significant.\n",
    "* **Implications for the Airline**\n",
    "    * Positive Impact: If the CounterXP protocol significantly improves customer satisfaction (as indicated by the positive treatment effect), the company could consider expanding or investing more in this protocol.\n",
    "    * Strategic Decision: Given the positive effect, the company may use this information to justify further implementation of CounterXP, potentially leading to better customer retention and satisfaction."
   ]
  },
  {
   "cell_type": "markdown",
   "metadata": {},
   "source": [
    "### Question 4\n",
    "\n",
    "**Generate a heterogeneous sample estimator of the treatment effect on the target vector. With what attribute would you perform post-stratification? Report 95% confidence intervals using either resampling techniques with replacement, parametric methods, and/or Bayesian methods.**\n",
    "\n",
    "\\begin{equation}\n",
    "\\text{NPS}_{it} = \\beta_0 + \\beta_1 \\text{improved\\_counter\\_service}_i + \\beta_2 \\text{post}_t + \\beta_3 (\\text{improved\\_counter\\_service}_i \\times \\text{post}_t) + \\beta_4 \\text{airports}_i \n",
    "\\end{equation}\n",
    "\n",
    "\\begin{equation}\n",
    "+ \\beta_5 (\\text{improved\\_counter\\_service}_i \\times \\text{airports}_i) + \\beta_6 (\\text{post}_t \\times \\text{airports}_i)\n",
    "\\end{equation}\n",
    "\n",
    "\\begin{equation}\n",
    "+ \\beta_7 (\\text{improved\\_counter\\_service}_i \\times \\text{post}_t \\times \\text{airports}_i) + \\epsilon_{it}\n",
    "\\end{equation}"
   ]
  },
  {
   "cell_type": "code",
   "execution_count": 11,
   "metadata": {},
   "outputs": [
    {
     "data": {
      "image/png": "[encoded data removed]",
      "text/plain": [
       "<Figure size 500x300 with 1 Axes>"
      ]
     },
     "metadata": {},
     "output_type": "display_data"
    }
   ],
   "source": [
    "# Quick Univariate Analysis\n",
    "\n",
    "# Bar Chart for Categorical Variables\n",
    "# Define the desired order of categories\n",
    "order = ['Alta', 'Media alta', 'Media baja', 'Baja']\n",
    "\n",
    "# Reorder the categories in your DataFrame\n",
    "df['airports'] = pd.Categorical(df['airports'], categories=order, ordered=True)\n",
    "\n",
    "# Plot the bar chart with the reordered categories\n",
    "plt.figure(figsize=(5, 3))\n",
    "df['airports'].value_counts().reindex(order).plot(kind='bar')\n",
    "plt.title('Frequency of Airports')\n",
    "plt.xlabel('Airports')\n",
    "plt.ylabel('Frequency')\n",
    "plt.show()"
   ]
  },
  {
   "cell_type": "code",
   "execution_count": null,
   "metadata": {},
   "outputs": [
    {
     "name": "stdout",
     "output_type": "stream",
     "text": [
      "                            OLS Regression Results                            \n",
      "==============================================================================\n",
      "Dep. Variable:                    nps   R-squared:                       0.793\n",
      "Model:                            OLS   Adj. R-squared:                  0.784\n",
      "Method:                 Least Squares   F-statistic:                     93.83\n",
      "Date:                Mon, 26 Aug 2024   Prob (F-statistic):          1.24e-115\n",
      "Time:                        23:44:15   Log-Likelihood:                -1472.3\n",
      "No. Observations:                 384   AIC:                             2977.\n",
      "Df Residuals:                     368   BIC:                             3040.\n",
      "Df Model:                          15                                         \n",
      "Covariance Type:            nonrobust                                         \n",
      "=============================================================================================================================\n",
      "                                                                coef    std err          t      P>|t|      [0.025      0.975]\n",
      "-----------------------------------------------------------------------------------------------------------------------------\n",
      "Intercept                                                    54.0455      2.495     21.664      0.000      49.140      58.951\n",
      "airports_media_alta[T.True]                                  22.0012      3.173      6.934      0.000      15.762      28.241\n",
      "airports_media_baja[T.True]                                  33.6798      3.572      9.429      0.000      26.656      40.704\n",
      "airports_baja[T.True]                                        37.4474      3.528     10.614      0.000      30.510      44.385\n",
      "improved_counter_service                                    -47.9837      3.528    -13.600      0.000     -54.921     -41.046\n",
      "improved_counter_service:airports_media_alta[T.True]         32.3849      4.487      7.217      0.000      23.561      41.209\n",
      "improved_counter_service:airports_media_baja[T.True]         36.5648      5.051      7.238      0.000      26.631      46.498\n",
      "improved_counter_service:airports_baja[T.True]               45.2295      4.989      9.065      0.000      35.418      55.041\n",
      "post                                                        -22.4382      3.528     -6.360      0.000     -29.376     -15.500\n",
      "post:airports_media_alta[T.True]                              9.3887      4.487      2.092      0.037       0.565      18.213\n",
      "post:airports_media_baja[T.True]                             14.3723      5.051      2.845      0.005       4.439      24.306\n",
      "post:airports_baja[T.True]                                   15.9801      4.989      3.203      0.001       6.169      25.792\n",
      "improved_counter_service:post                                58.6521      4.989     11.755      0.000      48.841      68.464\n",
      "improved_counter_service:post:airports_media_alta[T.True]   -32.3093      6.346     -5.091      0.000     -44.788     -19.830\n",
      "improved_counter_service:post:airports_media_baja[T.True]   -46.8026      7.144     -6.551      0.000     -60.850     -32.755\n",
      "improved_counter_service:post:airports_baja[T.True]         -51.1299      7.056     -7.246      0.000     -65.005     -37.254\n",
      "==============================================================================\n",
      "Omnibus:                       40.140   Durbin-Watson:                   1.830\n",
      "Prob(Omnibus):                  0.000   Jarque-Bera (JB):               73.100\n",
      "Skew:                          -0.621   Prob(JB):                     1.34e-16\n",
      "Kurtosis:                       4.739   Cond. No.                         35.3\n",
      "==============================================================================\n",
      "\n",
      "Notes:\n",
      "[1] Standard Errors assume that the covariance matrix of the errors is correctly specified.\n"
     ]
    }
   ],
   "source": [
    "# One-Hot Encode 'airports'\n",
    "# drop_first=True avoids multicollinearity by dropping the first category.\n",
    "df_reshaped_encoded = pd.get_dummies(df_reshaped, columns=['airports'], drop_first=True)\n",
    "\n",
    "# Rename columns in the DataFrame\n",
    "df_reshaped_encoded.columns = df_reshaped_encoded.columns.str.replace(' ', '_').str.lower()\n",
    "\n",
    "# Save the dataset\n",
    "df_reshaped_encoded.to_csv(r\"C:\\Users\\caiov\\OneDrive - UCLA IT Services\\Documentos\\DataScience\\Repositories\\airline_project\\data\\with_airports.csv\", index=False)\n",
    "\n",
    "# Define the model\n",
    "model = smf.ols('nps ~ improved_counter_service * post * airports_media_alta + '\n",
    "                 'improved_counter_service * post * airports_media_baja + '\n",
    "                 'improved_counter_service * post * airports_baja',\n",
    "                 data=df_reshaped_encoded).fit()\n",
    "\n",
    "# Print the summary\n",
    "print(model.summary())"
   ]
  },
  {
   "cell_type": "markdown",
   "metadata": {},
   "source": [
    "* What attribute would you use for post-stratification?\n",
    "    * airports\n",
    "\n",
    "* High-Demand Airports:\n",
    "    * Average Treatment Effect (without stratification): The coefficient for `improved_counter_service` is -47.9837. This is the effect of improved counter service on NPS, but this effect does not consider the post-period or specific airport types.\n",
    "\n",
    "* Media Alta Airports:\n",
    "    * Effect of Improved Counter Service on Media Alta Airports: The coefficient is -47.9837 + 32.3849 = -15.5988. This represents a reduced negative effect in media alta airports.\n",
    "    * Post-Intervention Effect: -15.5988 + 52.0776 = 36.4788.\n",
    "    * Confidence Interval: For the `improved_counter_service:post:airports_media_alta[T.True]` coefficient:\n",
    "        * Coefficient: -12.0181\n",
    "        * Standard Error: 5.658\n",
    "        * 95% Confidence Interval: [-23.133, -0.903]\n",
    "\n",
    "* Media Baja Airports:\n",
    "    * Effect of Improved Counter Service on Media Baja Airports: The coefficient is -47.9837 + 36.5648 = -11.4189.\n",
    "    * Post-Intervention Effect: -11.4189 + 52.0776 = 40.6587.\n",
    "    * Confidence Interval: For the `improved_counter_service:post:airports_media_baja[T.True]` coefficient:\n",
    "        * Coefficient: -13.6835\n",
    "        * Standard Error: 6.279\n",
    "        * 95% Confidence Interval: [-25.942, -1.425]\n",
    "* Low-Demand Airports:\n",
    "* Effect of Improved Counter Service on Low-Demand Airports: The coefficient is -47.9837 + 35.9902 = -11.9935.\n",
    "* Post-Intervention Effect: -11.9935 + 52.0776 = 40.0841.\n",
    "* Confidence Interval: For the improved_counter_service:post:airports_baja[T.True] coefficient:\n",
    "    * Coefficient: -10.5136\n",
    "    * Standard Error: 6.195\n",
    "    * 95% Confidence Interval: [-22.707, 1.679]\n",
    "\n",
    "* Implications for the Airline\n",
    "    * The results suggest that while the improved counter service generally has a positive effect on NPS, the extent of this effect varies by the type of airport and whether it is post-intervention. The treatment appears to be most effective in Media Baja and Low-Demand airports, but the effect in High-Demand airports is less clear and may be negative or not significantly different from zero."
   ]
  },
  {
   "cell_type": "markdown",
   "metadata": {},
   "source": [
    "### Question 5\n",
    "\n",
    "**A colleague suggests generating a sample estimator of the treatment based on pre-measurement scores. What would you respond?**\n",
    "\n",
    "Answer:\n",
    "\n",
    "* Your suggestion to generate a sample estimator of the treatment effect using pre-intervention scores is quite valid and can provide valuable insights. Analyzing the data before the intervention allows us to identify any pre-existing trends or differences between groups, which is crucial for ensuring that the observed effects after the intervention are truly due to the treatment and not due to external factors.\n",
    "* To do this, we can compare the means of pre-intervention scores between the treated and control groups, or fit a regression model using only pre-intervention data to analyze trends. This will give us a solid baseline and help validate the results of the post-treatment analysis, ensuring a more accurate interpretation of the treatment effect."
   ]
  },
  {
   "cell_type": "markdown",
   "metadata": {},
   "source": [
    "### Question 6.1\n",
    "\n",
    "**The first is a simple linear regression where we regress the intervention on the target vector. Report the impact of the estimated coefficient of the intervention. Is this analogous to the estimate generated in point 3?**\n",
    "\n",
    "For this question, let's consider a simple **Parametric Model**.\n",
    "\n",
    "**Model Specification**\n",
    "\\begin{equation}\n",
    "\\text{NPS\\_post}_i = \\beta_0 + \\beta_1 \\text{improved\\_counter\\_service}_i + \\epsilon_i, i = 1, ..., 192\n",
    "\\end{equation}\n",
    "\n",
    "Where:\n",
    "* nps_post: Dependent variable (NPS score).\n",
    "* improved_counter_service: Indicator variable for treatment group (1 if treated, 0 if control).\n",
    "* 𝛽1: Coefficient of interest representing the treatment effect.\n",
    "* ϵ: Error term - represents the collection of other factors affecting NPS.\n",
    "\n",
    "This scenarion is called: **Treatment Effects**\n",
    "\n",
    "We are interested in measuring: **The Difference Estimator**"
   ]
  },
  {
   "cell_type": "code",
   "execution_count": 13,
   "metadata": {},
   "outputs": [
    {
     "name": "stdout",
     "output_type": "stream",
     "text": [
      "                            OLS Regression Results                            \n",
      "==============================================================================\n",
      "Dep. Variable:               nps_post   R-squared:                       0.026\n",
      "Model:                            OLS   Adj. R-squared:                  0.020\n",
      "Method:                 Least Squares   F-statistic:                     4.973\n",
      "Date:                Mon, 26 Aug 2024   Prob (F-statistic):             0.0269\n",
      "Time:                        23:44:15   Log-Likelihood:                -870.01\n",
      "No. Observations:                 192   AIC:                             1744.\n",
      "Df Residuals:                     190   BIC:                             1751.\n",
      "Df Model:                           1                                         \n",
      "Covariance Type:            nonrobust                                         \n",
      "============================================================================================\n",
      "                               coef    std err          t      P>|t|      [0.025      0.975]\n",
      "--------------------------------------------------------------------------------------------\n",
      "const                       64.4227      2.306     27.939      0.000      59.874      68.971\n",
      "improved_counter_service     7.2716      3.261      2.230      0.027       0.839      13.704\n",
      "==============================================================================\n",
      "Omnibus:                       27.991   Durbin-Watson:                   0.831\n",
      "Prob(Omnibus):                  0.000   Jarque-Bera (JB):               35.701\n",
      "Skew:                          -1.040   Prob(JB):                     1.77e-08\n",
      "Kurtosis:                       3.373   Cond. No.                         2.62\n",
      "==============================================================================\n",
      "\n",
      "Notes:\n",
      "[1] Standard Errors assume that the covariance matrix of the errors is correctly specified.\n"
     ]
    }
   ],
   "source": [
    "# Fit the linear regression model\n",
    "X_6_1 = df[['improved_counter_service']]  # Independent variable(s)\n",
    "X_6_1 = sm.add_constant(X_6_1)  # Add a constant term for beta_0\n",
    "y_6_1 = df['nps_post']  # Dependent variable\n",
    "\n",
    "model = sm.OLS(y_6_1, X_6_1).fit()  # Fit the model\n",
    "\n",
    "# Print the summary\n",
    "print(model.summary())"
   ]
  },
  {
   "cell_type": "markdown",
   "metadata": {},
   "source": [
    "From the output we have:\n",
    "\n",
    "\\begin{equation}\n",
    "\\text{NPS\\_post} = 64.4227 + 7.2716 \\times \\text{improved\\_counter\\_service}\n",
    "\\end{equation}\n",
    "\n",
    "* Estimates\n",
    "    * β0 (Intercept): 64.4227\n",
    "    * **β1 (Coefficient of improved_counter_service - The Difference Estimate)**: 7.2716\n",
    "        * The estimated effect of the treatment (CounterXP Protocol) on the NPS score is 7.2716. This suggests that, on average, the NPS score is expected to increase by approximately 7.27 points for those who faced the new protocol compared to those who did not.\n",
    "    * Confidence Intervals:\n",
    "        * The 95% confidence interval for the coefficient of improved_counter_service is: [0.839, 13.704].\n",
    "        * This means we are 95% confident that the true effect of the `improved_counter_service` on `nps_post` lies between 0.839 and 13.704.\n",
    "* R-squared\n",
    "    * The R-squared value of 0.026 indicates that approximately 2.6% of the variance in the post-intervention NPS score (NPS_post) is explained by the model. Therefore, the vast majority (97.4%) of the variability in `NPS_post` is not explained by the model.\n",
    "    * The model has a poor fit to the data, indicating that it does not capture the relationships or factors affecting NPS_post effectively.\n",
    "    \n",
    "* Implications for the Airline\n",
    "    * Positive Impact: The positive and statistically significant coefficient indicates that CounterXP has a positive effect on the NPS score. This means that implementing the new protocol is likely to enhance customer satisfaction.\n",
    "    * Strategic Recommendation: Further Investigation is needed to ensure effective decision-making, conduct a more comprehensive analysis by including additional relevant factors in the model to better understand the treatment's impact and address any other underlying factors affecting NPS scores.\n",
    "\n",
    "* Comparison\n",
    "    * β1 (Question 6.1): Difference Estimate = 7.2716\n",
    "    * β3 (Question 3): Differences-in-Differences Estimate = 26.27\n",
    "        * This coefficient captures the additional effect of the treatment on the NPS for the treated group relative to the control group after the treatment. **The positive value suggests that the treatment (CounterXP) had a significant positive effect on the NPS in the treated group compared to the control group post-treatment**.\n",
    "\n",
    "* Conclusion\n",
    "    * This difference suggests that the simple linear regression, which does not account for time effects or differences between groups prior to the intervention, underestimates the true effect of the intervention. \n",
    "    * The DiD method, by considering these factors, provides a more accurate and larger estimate of the intervention's impact, highlighting the importance of accounting for both time and group differences when evaluating treatment effects."
   ]
  },
  {
   "cell_type": "markdown",
   "metadata": {},
   "source": [
    "### Question 6.2\n",
    "\n",
    "**The second is a two-variable linear regression where we regress the intervention and the pre-intervention NPS on the target vector. Report the impact of the estimated coefficient of the intervention. Compared to the regression generated in model 6.1, what is the effect of the intervention on the post-intervention NPS?**\n",
    "\n",
    "For this question, let's consider a simple **Parametric Model**.\n",
    "\n",
    "**Model Specification**\n",
    "\\begin{equation}\n",
    "\\text{NPS\\_post}_i = \\beta_0 + \\beta_1 \\text{improved\\_counter\\_service}_i + \\beta_2 \\text{NPS\\_pre}_i + \\epsilon_i, i = 1, ..., 192\n",
    "\\end{equation}\n",
    "\n",
    "Where:\n",
    "* NPS_post: Dependent variable (NPS score after the intervention).\n",
    "* improved_counter_service: Indicator variable for the treatment group (1 if treated, 0 if control).\n",
    "* NPS_pre: Independent variable representing the NPS score before the intervention.\n",
    "* 𝛽1: Coefficient of interest representing the treatment effect.\n",
    "* ϵ: Error term - represents the collection of other factors affecting NPS\n",
    "\n",
    "This regression will give you an estimate for 𝛽1, which represents the treatment effect after controlling for the pre-intervention NPS scores."
   ]
  },
  {
   "cell_type": "code",
   "execution_count": 14,
   "metadata": {},
   "outputs": [
    {
     "name": "stdout",
     "output_type": "stream",
     "text": [
      "                            OLS Regression Results                            \n",
      "==============================================================================\n",
      "Dep. Variable:               nps_post   R-squared:                       0.747\n",
      "Model:                            OLS   Adj. R-squared:                  0.744\n",
      "Method:                 Least Squares   F-statistic:                     279.1\n",
      "Date:                Mon, 26 Aug 2024   Prob (F-statistic):           3.84e-57\n",
      "Time:                        23:44:15   Log-Likelihood:                -740.53\n",
      "No. Observations:                 192   AIC:                             1487.\n",
      "Df Residuals:                     189   BIC:                             1497.\n",
      "Df Model:                           2                                         \n",
      "Covariance Type:            nonrobust                                         \n",
      "============================================================================================\n",
      "                               coef    std err          t      P>|t|      [0.025      0.975]\n",
      "--------------------------------------------------------------------------------------------\n",
      "const                        3.5902      2.872      1.250      0.213      -2.076       9.256\n",
      "improved_counter_service    22.2752      1.787     12.467      0.000      18.751      25.800\n",
      "nps_pre                      0.7896      0.034     23.220      0.000       0.722       0.857\n",
      "==============================================================================\n",
      "Omnibus:                       20.029   Durbin-Watson:                   1.147\n",
      "Prob(Omnibus):                  0.000   Jarque-Bera (JB):               39.909\n",
      "Skew:                           0.497   Prob(JB):                     2.16e-09\n",
      "Kurtosis:                       5.000   Cond. No.                         271.\n",
      "==============================================================================\n",
      "\n",
      "Notes:\n",
      "[1] Standard Errors assume that the covariance matrix of the errors is correctly specified.\n"
     ]
    }
   ],
   "source": [
    "# Fit the linear regression model\n",
    "X_6_2 = df[['improved_counter_service', 'nps_pre']]  # Include both independent variables\n",
    "X_6_2 = sm.add_constant(X_6_2)  # Add a constant term for beta_0\n",
    "y_6_2 = df['nps_post']  # Dependent variable\n",
    "\n",
    "model = sm.OLS(y_6_2, X_6_2).fit()  # Fit the model\n",
    "\n",
    "# Print the summary\n",
    "print(model.summary())"
   ]
  },
  {
   "cell_type": "markdown",
   "metadata": {},
   "source": [
    "From the output we have:\n",
    "\n",
    "\\begin{equation}\n",
    "\\text{NPS\\_post} = 3.5902 + 22.2752 \\times \\text{improved\\_counter\\_service} + 0.7896 \\times \\text{NPS\\_pre}\n",
    "\\end{equation}\n",
    "\n",
    "* Estimates\n",
    "    * β0 (Intercept): 3.5902\n",
    "        * The intercept represents the expected `NPS_post` when both `improved_counter_service` and `NPS_pre` are 0. \n",
    "        * While this value is not directly interpretable in this context, it provides the baseline from which the other coefficients adjust the prediction.\n",
    "    * β1 (Coefficient of improved_counter_service): 22.2752\n",
    "        * This suggests that, on average, the NPS score is expected to increase by approximately 22.28 points for those who experienced the new protocol compared to those who did not, holding the pre-intervention NPS score (NPS_pre) constant.\n",
    "    * β2 (Coefficient of NPS_pre): 0.7896\n",
    "        * For every one-point increase in the `NPS_pre` score, the `NPS_post` score is expected to increase by approximately 0.7896 points, assuming the treatment status remains constant. \n",
    "        * This indicates that the baseline NPS score has a significant impact on the post-intervention NPS score, reflecting that participants with higher pre-intervention scores tend to also have higher post-intervention scores.\n",
    "* R-squared\n",
    "    * The R-squared value of 0.747 indicates that approximately 74.7% of the variance in the post-intervention NPS score (NPS_post) is explained by the model.\n",
    "    * In other words, the model does a good job of accounting for the variability in the post-intervention NPS scores based on the pre-intervention scores and the treatment effect.\n",
    "\n",
    "* Comparison\n",
    "    * β1 (Question 6.1): 7.2716\n",
    "    * β2 (Question 6.2): 22.2752\n",
    "        * This coefficient captures the additional effect of the treatment on the NPS for the treated group relative to the control group after the treatment. **The positive value suggests that the treatment (CounterXP) had a significant positive effect on the NPS in the treated group compared to the control group post-treatment**.\n",
    "\n",
    "* Conclusion\n",
    "    * The second model provides a more complete picture because it accounts for the baseline NPS score, making the treatment effect appear more substantial (22.2752) compared to the first model (7.2716).\n",
    "    * The R-squared value of the second model is higher, indicating a better fit to the data compared to the first model."
   ]
  },
  {
   "cell_type": "markdown",
   "metadata": {},
   "source": [
    "### Question 6.3\n",
    "\n",
    "**The third is the same regression as in point 6.2, but post-stratified by airports. Report the impact of the estimated coefficient of the intervention for each stratum. Is it possible to identify the effect of the intervention if we control for pre-intervention variables and stratify by airport categories? Is this effect similar for all??**\n",
    "\n",
    "For this question, let's consider a simple **Parametric Model**, where we include interaction terms for the airport categories. This approach allows you to estimate the treatment effect for each stratum while controlling for pre-intervention variables and stratifying by airport categories.\n",
    "\n",
    "**Model Specification**\n",
    "\\begin{equation}\n",
    "\\text{NPS\\_post}_i = \\beta_0 + \\beta_1 \\text{improved\\_counter\\_service}_i + \\beta_2 \\text{airports\\_media\\_alta}_i\n",
    "\\end{equation}\n",
    "\n",
    "\n",
    "\\begin{equation}\n",
    "+ \\beta_3 \\text{airports\\_media\\_baja}_i + \\beta_4 \\text{airports\\_baja}_i\n",
    "\\end{equation}\n",
    "\n",
    "\\begin{equation}\n",
    "+ \\beta_5 (\\text{improved\\_counter\\_service}_i \\times \\text{airports\\_media\\_alta}_i) + \\beta_6 (\\text{improved\\_counter\\_service}_i \\times \\text{airports\\_media\\_baja}_i)\n",
    "\\end{equation}\n",
    "\n",
    "\\begin{equation}\n",
    "+ \\beta_7 (\\text{improved\\_counter\\_service}_i \\times \\text{airports\\_baja}_i) + \\beta_8 \\text{NPS\\_pre}_i + \\epsilon_i\n",
    "\\end{equation}\n",
    "\n",
    "Where:\n",
    "\n",
    "* NPS_post: Dependent variable (NPS score after the intervention).\n",
    "* improved_counter_service: Indicator variable for the treatment group (1 if treated, 0 if control).\n",
    "* NPS_pre: Independent variable representing the NPS score before the intervention.\n",
    "* airports: Categorical variable indicating airport categories (media_alta, media_baja, baja).\n",
    "* improved_counter_service * airports: Interaction terms between the treatment variable and airport categories, capturing the differential impact of the treatment across different airport categories.\n",
    "* β1: Coefficient representing the overall treatment effect for the base airport category (alta).\n",
    "* β4, β5, β6: Coefficients for the interaction terms, representing the treatment effect for each airport category (media_alta, media_baja, baja) relative to the base category (alta).\n",
    "* ϵ: Error term - represents the collection of other factors affecting NPS."
   ]
  },
  {
   "cell_type": "code",
   "execution_count": null,
   "metadata": {},
   "outputs": [],
   "source": [
    "# One-Hot Encode 'airports' and drop the first category\n",
    "df_encoded = pd.get_dummies(df, columns=['airports'], drop_first=True)\n",
    "df_encoded.columns = df_encoded.columns.str.replace(' ', '_').str.lower()\n",
    "\n",
    "# Save the dataset\n",
    "df_encoded.to_csv(r\"C:\\Users\\caiov\\OneDrive - UCLA IT Services\\Documentos\\DataScience\\Repositories\\airline_project\\data\\with_airports_2.csv\", index=False)\n"
   ]
  },
  {
   "cell_type": "code",
   "execution_count": 16,
   "metadata": {},
   "outputs": [
    {
     "name": "stdout",
     "output_type": "stream",
     "text": [
      "                            OLS Regression Results                            \n",
      "==============================================================================\n",
      "Dep. Variable:               nps_post   R-squared:                       0.904\n",
      "Model:                            OLS   Adj. R-squared:                  0.899\n",
      "Method:                 Least Squares   F-statistic:                     214.6\n",
      "Date:                Mon, 26 Aug 2024   Prob (F-statistic):           1.04e-88\n",
      "Time:                        23:44:15   Log-Likelihood:                -647.86\n",
      "No. Observations:                 192   AIC:                             1314.\n",
      "Df Residuals:                     183   BIC:                             1343.\n",
      "Df Model:                           8                                         \n",
      "Covariance Type:            nonrobust                                         \n",
      "========================================================================================================================\n",
      "                                                           coef    std err          t      P>|t|      [0.025      0.975]\n",
      "------------------------------------------------------------------------------------------------------------------------\n",
      "Intercept                                              -39.9848      3.666    -10.907      0.000     -47.218     -32.752\n",
      "airports_media_alta[T.True]                              2.2457      2.419      0.929      0.354      -2.526       7.017\n",
      "airports_media_baja[T.True]                              3.4377      3.060      1.123      0.263      -2.600       9.475\n",
      "airports_baja[T.True]                                    3.8223      3.201      1.194      0.234      -2.493      10.137\n",
      "improved_counter_service                                74.2307      3.690     20.116      0.000      66.950      81.511\n",
      "improved_counter_service:airports_media_alta[T.True]   -42.8235      3.464    -12.362      0.000     -49.658     -35.989\n",
      "improved_counter_service:airports_media_baja[T.True]   -58.6739      3.904    -15.031      0.000     -66.376     -50.972\n",
      "improved_counter_service:airports_baja[T.True]         -65.8143      4.200    -15.668      0.000     -74.102     -57.527\n",
      "nps_pre                                                  1.3247      0.061     21.639      0.000       1.204       1.445\n",
      "==============================================================================\n",
      "Omnibus:                       46.341   Durbin-Watson:                   1.810\n",
      "Prob(Omnibus):                  0.000   Jarque-Bera (JB):              732.348\n",
      "Skew:                          -0.211   Prob(JB):                    9.39e-160\n",
      "Kurtosis:                      12.558   Cond. No.                     1.08e+03\n",
      "==============================================================================\n",
      "\n",
      "Notes:\n",
      "[1] Standard Errors assume that the covariance matrix of the errors is correctly specified.\n",
      "[2] The condition number is large, 1.08e+03. This might indicate that there are\n",
      "strong multicollinearity or other numerical problems.\n"
     ]
    }
   ],
   "source": [
    "# Fit the model with interaction terms\n",
    "formula = '''\n",
    "nps_post ~ improved_counter_service * airports_media_alta \n",
    "          + improved_counter_service * airports_media_baja \n",
    "          + improved_counter_service * airports_baja \n",
    "          + nps_pre\n",
    "'''\n",
    "\n",
    "model = ols(formula, data=df_encoded).fit()\n",
    "\n",
    "# Print the summary\n",
    "print(model.summary())"
   ]
  },
  {
   "cell_type": "markdown",
   "metadata": {},
   "source": [
    "* Estimates\n",
    "    * β0 (Intercept): -39.9848\n",
    "        * The intercept represents the expected `NPS_post` when `improved_counter_service`, `NPS_pre`, and the airport categories are all at their reference levels (base category = alta). \n",
    "        * This value is not directly interpretable in a meaningful way since it represents a scenario where no intervention or pre-existing conditions exist.\n",
    "    * β1 (Coefficient of improved_counter_service): 74.2307\n",
    "        * This suggests that, on average, the NPS score is expected to increase by approximately 74.23 points for those who experienced the new protocol (CounterXP) compared to those who did not, holding the pre-intervention NPS score (`NPS_pre`) constant and for the base airport category (alta).\n",
    "    * β2 (Coefficient of NPS_pre): 1.3247\n",
    "    * For every one-point increase in the NPS_pre score, the `NPS_post` score is expected to increase by approximately 1.3247 points, assuming the treatment status and airport category remain constant.\n",
    "    * This indicates that the baseline NPS score significantly impacts the post-intervention NPS score, reflecting that participants with higher pre-intervention scores tend to have higher post-intervention scores as well.\n",
    "    * **Impact of the Intervention for Each Stratum**:\n",
    "        * In the Airport Category Represented by the Intercept (Reference Category = alta): 74.2307\n",
    "        * airports_media_alta: The effect of the intervention is reduced by 42.8235 compared to the reference category, so the effective impact in this category is 74.2307 − 42.8235 = 31.4072\n",
    "        * airports_media_baja: The effect is reduced by 58.6739, so the effective impact is 74.2307 − 58.6739 = 15.5568\n",
    "        * airports_baja: The effect is reduced by 65.8143, so the effective impact is 74.2307 − 65.8143 = 8.4164\n",
    "    * Interaction Terms:\n",
    "        * β4 (Coefficient of improved_counter_service * airports_media_alta): -42.8235\n",
    "        * β5 (Coefficient of improved_counter_service * airports_media_baja): -58.6739\n",
    "        * β6 (Coefficient of improved_counter_service * airports_baja): -65.8143\n",
    "            * These coefficients represent the additional effect of the treatment (CounterXP) on the NPS for the treated group relative to the control group across different airport categories. \n",
    "            * The negative values indicate that the treatment effect is less pronounced in these categories compared to the base category (alta). \n",
    "            * For example, the effect in the media_alta airport category is 42.8235 points lower than in the alta category.\n",
    "* R-squared: 0.904\n",
    "    * This high R-squared value indicates that approximately 90.4% of the variance in the NPS_post score is explained by the model. This means that the model does an excellent job of capturing the factors influencing the post-intervention NPS scores, including the treatment effect, pre-intervention scores, and differences across airport categories.\n",
    "\n",
    "* **¿Es posible identificar el efecto de la intervención si controlamos por variables preintervención y estratificamos por categorías de aeropuertos?**\n",
    "    * Yes, it is possible to identify the effect of the intervention while controlling for pre-intervention NPS and stratifying by airport categories. The interaction terms allow you to see how the effect of the intervention differs across different categories.\n",
    "* **¿Es este un efecto similar para todos?**\n",
    "    * No, the effect of the intervention varies significantly across different airport categories. The intervention has a lower positive impact in the airports_media_alta, airports_media_baja, and airports_baja categories compared to the reference category. The largest reduction in the intervention effect is observed in the airports_baja category."
   ]
  },
  {
   "cell_type": "markdown",
   "metadata": {},
   "source": [
    "### Question 7\n",
    "\n",
    "**How effective is this intervention? Is this intervention identical for all airports? Explain the assumptions behind this intervention that support the causality of your findings.**\n",
    "\n",
    "* Effectiveness of the Intervention:\n",
    "    * The intervention appears to be effective overall, as indicated by the positive and significant coefficients of the improved_counter_service variable in the regression models. For the baseline airport category (high demand), the intervention has a substantial positive impact on the NPS, with an average increase of 74.23 points in the post-intervention NPS.\n",
    "\n",
    "* Differences Across Airports:\n",
    "    However, the effectiveness of the intervention is not identical across all airports. The interaction coefficients show that in medium-high, medium-low, and low-demand airport categories, the impact of the intervention is significantly lower compared to the high-demand airport category. This suggests that the intervention does not have the same level of effectiveness across different types of airports.\n",
    "\n",
    "* Assumptions Supporting Causality:\n",
    "    * SUTVA (Stable Unit Treatment Value Assumption): It is assumed that the effect of the intervention at one airport is not influenced by the intervention at another airport.\n",
    "    * Ignorability: It is assumed that, after controlling for the NPS_pre variable and airport categories, the assignment to treatment is independent of the potential outcome.\n",
    "    * Linearity: It is assumed that the relationship between the intervention and post-intervention NPS is linear, and that the interactions adequately capture the differences between airports.\n",
    "\n",
    "**What are the next steps for this intervention?**\n",
    "\n",
    "* Deeper Analysis: Conduct a more detailed analysis to understand why the intervention is less effective at certain types of airports. This could involve reviewing specific processes at lower-demand airports or analyzing other contextual variables not considered.\n",
    "\n",
    "* Pilot Testing at Other Airports: Implement the intervention at additional airports to continue evaluating its effectiveness and make adjustments before a large-scale rollout.\n",
    "\n",
    "* Continuous Monitoring: Establish a system for ongoing monitoring to track the intervention's effectiveness over time and make necessary adjustments.\n",
    "\n",
    "**How extrapolable would this intervention be if we want to reach all airports in Brazil? What is the internal and external validity of this exercise?**\n",
    "\n",
    "* Internal Validity: The internal validity is strong given that the experiment controls for pre-intervention NPS and airport categories. However, the varying effectiveness across different airport types suggests that other unobserved factors might influence the results.\n",
    "\n",
    "* External Validity: The external validity, or generalizability, might be limited. Since the intervention’s effectiveness varies by airport category, scaling the intervention across all airports in Brazil may require further adjustments to account for the specific needs and contexts of different airports."
   ]
  }
 ],
 "metadata": {
  "kernelspec": {
   "display_name": "Python 3",
   "language": "python",
   "name": "python3"
  },
  "language_info": {
   "codemirror_mode": {
    "name": "ipython",
    "version": 3
   },
   "file_extension": ".py",
   "mimetype": "text/x-python",
   "name": "python",
   "nbconvert_exporter": "python",
   "pygments_lexer": "ipython3",
   "version": "3.9.13"
  }
 },
 "nbformat": 4,
 "nbformat_minor": 2
}
